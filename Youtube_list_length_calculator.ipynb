{
 "cells": [
  {
   "cell_type": "code",
   "execution_count": 84,
   "id": "0baf7f02",
   "metadata": {},
   "outputs": [],
   "source": [
    "import flet\n",
    "from flet import TextField, Text, ElevatedButton, Page, AppBar, icons, Icon, colors, alignment, Container\n",
    "from selenium import webdriver\n",
    "from webdriver_manager.chrome import ChromeDriverManager\n",
    "from selenium.webdriver.common.by import By"
   ]
  },
  {
   "cell_type": "code",
   "execution_count": 85,
   "id": "df4ab71a",
   "metadata": {},
   "outputs": [
    {
     "name": "stdout",
     "output_type": "stream",
     "text": [
      "\n"
     ]
    },
    {
     "name": "stderr",
     "output_type": "stream",
     "text": [
      "C:\\Users\\Dell\\AppData\\Local\\Temp/ipykernel_12124/893479022.py:1: DeprecationWarning: executable_path has been deprecated, please pass in a Service object\n",
      "  browser = webdriver.Chrome(ChromeDriverManager().install())\n"
     ]
    }
   ],
   "source": [
    "browser = webdriver.Chrome(ChromeDriverManager().install())"
   ]
  },
  {
   "cell_type": "code",
   "execution_count": 86,
   "id": "438eb7b0",
   "metadata": {},
   "outputs": [],
   "source": [
    "browser.get(\"https://ytplaylist-len.herokuapp.com/\")"
   ]
  },
  {
   "cell_type": "code",
   "execution_count": 87,
   "id": "10e2d4ed",
   "metadata": {},
   "outputs": [],
   "source": [
    "# playlist_link = input(\"Playlist Link: \")\n",
    "# browser.find_element(By.XPATH, \"/html/body/div/div/form/div/input\").send_keys(playlist_link)"
   ]
  },
  {
   "cell_type": "code",
   "execution_count": 88,
   "id": "d886d74a",
   "metadata": {},
   "outputs": [],
   "source": [
    "browser.find_element(By.CSS_SELECTOR, \"body > div > div > form > div > div > button\").click() \n"
   ]
  },
  {
   "cell_type": "code",
   "execution_count": 89,
   "id": "abbb918b",
   "metadata": {},
   "outputs": [],
   "source": [
    "no_of_videos = \"/html/body/div/div[2]/p[1]\"\n",
    "playlist_length = \"/html/body/div/div[2]/p[3]\"\n",
    "speed_125 = \"/html/body/div/div[2]/p[4]\"\n",
    "speed_150 = \"/html/body/div/div[2]/p[5]\"\n",
    "speed_175 = \"/html/body/div/div[2]/p[6]\"\n",
    "speed_2 = \"/html/body/div/div[2]/p[7]\"\n",
    "page_header = \"/html/body/div/nav/a/img\""
   ]
  },
  {
   "cell_type": "code",
   "execution_count": 90,
   "id": "cd34a281",
   "metadata": {},
   "outputs": [],
   "source": [
    "playlist_xpaths = [no_of_videos, playlist_length, speed_125, speed_150, speed_175, speed_2]"
   ]
  },
  {
   "cell_type": "code",
   "execution_count": 91,
   "id": "32715c23",
   "metadata": {},
   "outputs": [
    {
     "name": "stdout",
     "output_type": "stream",
     "text": [
      "The playlist identified with the request's playlistId parameter cannot be found.\n"
     ]
    },
    {
     "ename": "NoSuchElementException",
     "evalue": "Message: no such element: Unable to locate element: {\"method\":\"xpath\",\"selector\":\"/html/body/div/div[2]/p[3]\"}\n  (Session info: chrome=105.0.5195.127)\nStacktrace:\nBacktrace:\n\tOrdinal0 [0x0024DF13+2219795]\n\tOrdinal0 [0x001E2841+1779777]\n\tOrdinal0 [0x000F423D+803389]\n\tOrdinal0 [0x00123025+995365]\n\tOrdinal0 [0x001231EB+995819]\n\tOrdinal0 [0x00150F52+1183570]\n\tOrdinal0 [0x0013E844+1108036]\n\tOrdinal0 [0x0014F192+1175954]\n\tOrdinal0 [0x0013E616+1107478]\n\tOrdinal0 [0x00117F89+950153]\n\tOrdinal0 [0x00118F56+954198]\n\tGetHandleVerifier [0x00542CB2+3040210]\n\tGetHandleVerifier [0x00532BB4+2974420]\n\tGetHandleVerifier [0x002E6A0A+565546]\n\tGetHandleVerifier [0x002E5680+560544]\n\tOrdinal0 [0x001E9A5C+1808988]\n\tOrdinal0 [0x001EE3A8+1827752]\n\tOrdinal0 [0x001EE495+1827989]\n\tOrdinal0 [0x001F80A4+1867940]\n\tBaseThreadInitThunk [0x7585FA29+25]\n\tRtlGetAppContainerNamedObjectPath [0x77097B5E+286]\n\tRtlGetAppContainerNamedObjectPath [0x77097B2E+238]\n\t(No symbol) [0x00000000]\n",
     "output_type": "error",
     "traceback": [
      "\u001b[1;31m---------------------------------------------------------------------------\u001b[0m",
      "\u001b[1;31mNoSuchElementException\u001b[0m                    Traceback (most recent call last)",
      "\u001b[1;32m~\\AppData\\Local\\Temp/ipykernel_12124/3761904745.py\u001b[0m in \u001b[0;36m<module>\u001b[1;34m\u001b[0m\n\u001b[0;32m      1\u001b[0m \u001b[1;32mfor\u001b[0m \u001b[0mi\u001b[0m \u001b[1;32min\u001b[0m \u001b[0mplaylist_xpaths\u001b[0m\u001b[1;33m:\u001b[0m\u001b[1;33m\u001b[0m\u001b[1;33m\u001b[0m\u001b[0m\n\u001b[1;32m----> 2\u001b[1;33m     \u001b[0melement\u001b[0m \u001b[1;33m=\u001b[0m \u001b[0mbrowser\u001b[0m\u001b[1;33m.\u001b[0m\u001b[0mfind_element\u001b[0m\u001b[1;33m(\u001b[0m\u001b[0mBy\u001b[0m\u001b[1;33m.\u001b[0m\u001b[0mXPATH\u001b[0m\u001b[1;33m,\u001b[0m \u001b[0mi\u001b[0m\u001b[1;33m)\u001b[0m\u001b[1;33m\u001b[0m\u001b[1;33m\u001b[0m\u001b[0m\n\u001b[0m\u001b[0;32m      3\u001b[0m     \u001b[0mprint\u001b[0m\u001b[1;33m(\u001b[0m\u001b[0melement\u001b[0m\u001b[1;33m.\u001b[0m\u001b[0mtext\u001b[0m\u001b[1;33m)\u001b[0m\u001b[1;33m\u001b[0m\u001b[1;33m\u001b[0m\u001b[0m\n\u001b[0;32m      4\u001b[0m \u001b[0mbrowser\u001b[0m\u001b[1;33m.\u001b[0m\u001b[0mfind_element\u001b[0m\u001b[1;33m(\u001b[0m\u001b[0mBy\u001b[0m\u001b[1;33m.\u001b[0m\u001b[0mXPATH\u001b[0m\u001b[1;33m,\u001b[0m \u001b[0mpage_header\u001b[0m\u001b[1;33m)\u001b[0m\u001b[1;33m.\u001b[0m\u001b[0mclick\u001b[0m\u001b[1;33m(\u001b[0m\u001b[1;33m)\u001b[0m\u001b[1;33m\u001b[0m\u001b[1;33m\u001b[0m\u001b[0m\n",
      "\u001b[1;32mE:\\Anaconda\\lib\\site-packages\\selenium\\webdriver\\remote\\webdriver.py\u001b[0m in \u001b[0;36mfind_element\u001b[1;34m(self, by, value)\u001b[0m\n\u001b[0;32m   1242\u001b[0m             \u001b[0mvalue\u001b[0m \u001b[1;33m=\u001b[0m \u001b[1;34m'[name=\"%s\"]'\u001b[0m \u001b[1;33m%\u001b[0m \u001b[0mvalue\u001b[0m\u001b[1;33m\u001b[0m\u001b[1;33m\u001b[0m\u001b[0m\n\u001b[0;32m   1243\u001b[0m \u001b[1;33m\u001b[0m\u001b[0m\n\u001b[1;32m-> 1244\u001b[1;33m         return self.execute(Command.FIND_ELEMENT, {\n\u001b[0m\u001b[0;32m   1245\u001b[0m             \u001b[1;34m'using'\u001b[0m\u001b[1;33m:\u001b[0m \u001b[0mby\u001b[0m\u001b[1;33m,\u001b[0m\u001b[1;33m\u001b[0m\u001b[1;33m\u001b[0m\u001b[0m\n\u001b[0;32m   1246\u001b[0m             'value': value})['value']\n",
      "\u001b[1;32mE:\\Anaconda\\lib\\site-packages\\selenium\\webdriver\\remote\\webdriver.py\u001b[0m in \u001b[0;36mexecute\u001b[1;34m(self, driver_command, params)\u001b[0m\n\u001b[0;32m    422\u001b[0m         \u001b[0mresponse\u001b[0m \u001b[1;33m=\u001b[0m \u001b[0mself\u001b[0m\u001b[1;33m.\u001b[0m\u001b[0mcommand_executor\u001b[0m\u001b[1;33m.\u001b[0m\u001b[0mexecute\u001b[0m\u001b[1;33m(\u001b[0m\u001b[0mdriver_command\u001b[0m\u001b[1;33m,\u001b[0m \u001b[0mparams\u001b[0m\u001b[1;33m)\u001b[0m\u001b[1;33m\u001b[0m\u001b[1;33m\u001b[0m\u001b[0m\n\u001b[0;32m    423\u001b[0m         \u001b[1;32mif\u001b[0m \u001b[0mresponse\u001b[0m\u001b[1;33m:\u001b[0m\u001b[1;33m\u001b[0m\u001b[1;33m\u001b[0m\u001b[0m\n\u001b[1;32m--> 424\u001b[1;33m             \u001b[0mself\u001b[0m\u001b[1;33m.\u001b[0m\u001b[0merror_handler\u001b[0m\u001b[1;33m.\u001b[0m\u001b[0mcheck_response\u001b[0m\u001b[1;33m(\u001b[0m\u001b[0mresponse\u001b[0m\u001b[1;33m)\u001b[0m\u001b[1;33m\u001b[0m\u001b[1;33m\u001b[0m\u001b[0m\n\u001b[0m\u001b[0;32m    425\u001b[0m             response['value'] = self._unwrap_value(\n\u001b[0;32m    426\u001b[0m                 response.get('value', None))\n",
      "\u001b[1;32mE:\\Anaconda\\lib\\site-packages\\selenium\\webdriver\\remote\\errorhandler.py\u001b[0m in \u001b[0;36mcheck_response\u001b[1;34m(self, response)\u001b[0m\n\u001b[0;32m    245\u001b[0m                 \u001b[0malert_text\u001b[0m \u001b[1;33m=\u001b[0m \u001b[0mvalue\u001b[0m\u001b[1;33m[\u001b[0m\u001b[1;34m'alert'\u001b[0m\u001b[1;33m]\u001b[0m\u001b[1;33m.\u001b[0m\u001b[0mget\u001b[0m\u001b[1;33m(\u001b[0m\u001b[1;34m'text'\u001b[0m\u001b[1;33m)\u001b[0m\u001b[1;33m\u001b[0m\u001b[1;33m\u001b[0m\u001b[0m\n\u001b[0;32m    246\u001b[0m             \u001b[1;32mraise\u001b[0m \u001b[0mexception_class\u001b[0m\u001b[1;33m(\u001b[0m\u001b[0mmessage\u001b[0m\u001b[1;33m,\u001b[0m \u001b[0mscreen\u001b[0m\u001b[1;33m,\u001b[0m \u001b[0mstacktrace\u001b[0m\u001b[1;33m,\u001b[0m \u001b[0malert_text\u001b[0m\u001b[1;33m)\u001b[0m  \u001b[1;31m# type: ignore[call-arg]  # mypy is not smart enough here\u001b[0m\u001b[1;33m\u001b[0m\u001b[1;33m\u001b[0m\u001b[0m\n\u001b[1;32m--> 247\u001b[1;33m         \u001b[1;32mraise\u001b[0m \u001b[0mexception_class\u001b[0m\u001b[1;33m(\u001b[0m\u001b[0mmessage\u001b[0m\u001b[1;33m,\u001b[0m \u001b[0mscreen\u001b[0m\u001b[1;33m,\u001b[0m \u001b[0mstacktrace\u001b[0m\u001b[1;33m)\u001b[0m\u001b[1;33m\u001b[0m\u001b[1;33m\u001b[0m\u001b[0m\n\u001b[0m\u001b[0;32m    248\u001b[0m \u001b[1;33m\u001b[0m\u001b[0m\n\u001b[0;32m    249\u001b[0m     \u001b[1;32mdef\u001b[0m \u001b[0m_value_or_default\u001b[0m\u001b[1;33m(\u001b[0m\u001b[0mself\u001b[0m\u001b[1;33m,\u001b[0m \u001b[0mobj\u001b[0m\u001b[1;33m:\u001b[0m \u001b[0mMapping\u001b[0m\u001b[1;33m[\u001b[0m\u001b[0m_KT\u001b[0m\u001b[1;33m,\u001b[0m \u001b[0m_VT\u001b[0m\u001b[1;33m]\u001b[0m\u001b[1;33m,\u001b[0m \u001b[0mkey\u001b[0m\u001b[1;33m:\u001b[0m \u001b[0m_KT\u001b[0m\u001b[1;33m,\u001b[0m \u001b[0mdefault\u001b[0m\u001b[1;33m:\u001b[0m \u001b[0m_VT\u001b[0m\u001b[1;33m)\u001b[0m \u001b[1;33m->\u001b[0m \u001b[0m_VT\u001b[0m\u001b[1;33m:\u001b[0m\u001b[1;33m\u001b[0m\u001b[1;33m\u001b[0m\u001b[0m\n",
      "\u001b[1;31mNoSuchElementException\u001b[0m: Message: no such element: Unable to locate element: {\"method\":\"xpath\",\"selector\":\"/html/body/div/div[2]/p[3]\"}\n  (Session info: chrome=105.0.5195.127)\nStacktrace:\nBacktrace:\n\tOrdinal0 [0x0024DF13+2219795]\n\tOrdinal0 [0x001E2841+1779777]\n\tOrdinal0 [0x000F423D+803389]\n\tOrdinal0 [0x00123025+995365]\n\tOrdinal0 [0x001231EB+995819]\n\tOrdinal0 [0x00150F52+1183570]\n\tOrdinal0 [0x0013E844+1108036]\n\tOrdinal0 [0x0014F192+1175954]\n\tOrdinal0 [0x0013E616+1107478]\n\tOrdinal0 [0x00117F89+950153]\n\tOrdinal0 [0x00118F56+954198]\n\tGetHandleVerifier [0x00542CB2+3040210]\n\tGetHandleVerifier [0x00532BB4+2974420]\n\tGetHandleVerifier [0x002E6A0A+565546]\n\tGetHandleVerifier [0x002E5680+560544]\n\tOrdinal0 [0x001E9A5C+1808988]\n\tOrdinal0 [0x001EE3A8+1827752]\n\tOrdinal0 [0x001EE495+1827989]\n\tOrdinal0 [0x001F80A4+1867940]\n\tBaseThreadInitThunk [0x7585FA29+25]\n\tRtlGetAppContainerNamedObjectPath [0x77097B5E+286]\n\tRtlGetAppContainerNamedObjectPath [0x77097B2E+238]\n\t(No symbol) [0x00000000]\n"
     ]
    }
   ],
   "source": [
    "for i in playlist_xpaths:\n",
    "    element = browser.find_element(By.XPATH, i)\n",
    "    print(element.text)\n",
    "browser.find_element(By.XPATH, page_header).click()"
   ]
  },
  {
   "cell_type": "code",
   "execution_count": 92,
   "id": "9b706c79",
   "metadata": {},
   "outputs": [],
   "source": [
    "def main(page: Page):\n",
    "    page.title = \"Youtube playlist length calculator\"\n",
    "    page.bgcolor = \"white\"\n",
    "    page.appbar = AppBar(leading=Icon(icons.CALCULATE_ROUNDED), title=Text(\"Youtube playlist length calculator\",\n",
    "                                                                           color=\"white\"), bgcolor=colors.BLUE_500)\n",
    "    def clicking_button(e):\n",
    "        if(link_input.value):\n",
    "            browser.find_element(By.XPATH, \"/html/body/div/div/form/div/input\").send_keys(link_input.value)\n",
    "            browser.find_element(By.CSS_SELECTOR, \"body > div > div > form > div > div > button\").click() \n",
    "            elements = []\n",
    "            for i in playlist_xpaths:\n",
    "                element = browser.find_element(By.XPATH, i)\n",
    "                elements.append(element.text)\n",
    "            browser.find_element(By.XPATH, page_header).click()\n",
    "            num_videos_text.value = elements[0]\n",
    "            play_list_length_text.value = elements[1]\n",
    "            l125.value = elements[2]\n",
    "            l15.value = elements[3]\n",
    "            l175.value = elements[4]\n",
    "            l2.value = elements[5]\n",
    "            page.update()\n",
    "        page.update()\n",
    "            \n",
    "            \n",
    "            \n",
    "            \n",
    "    link_input = TextField(label=\"Playlist link\", hint_text=\"Type link here\", color=colors.BLUE_500)\n",
    "    page.add(link_input)\n",
    "    play_list_length_button = Container(ElevatedButton(text=\"Get length\", bgcolor=colors.BLUE_500, color=\"white\"),\n",
    "                                       alignment=alignment.center, on_click=clicking_button)\n",
    "    page.add(play_list_length_button)\n",
    "    num_videos_text = Text(\"\", color=colors.BLUE_500, font_family=\"Verdana\")\n",
    "    page.add(num_videos_text)\n",
    "    play_list_length_text = Text(\"\", color=colors.BLUE_500, font_family=\"Verdana\")\n",
    "    page.add(play_list_length_text)\n",
    "    l125 = Text(\"\", color=colors.BLUE_500, font_family=\"Verdana\")\n",
    "    page.add(l125)\n",
    "    l15 = Text(\"\", color=colors.BLUE_500, font_family=\"Verdana\")\n",
    "    page.add(l15)\n",
    "    l175 = Text(\"\", color=colors.BLUE_500, font_family=\"Verdana\")\n",
    "    page.add(l175)\n",
    "    l2 = Text(\"\", color=colors.BLUE_500, font_family=\"Verdana\")\n",
    "    page.add(l2)\n",
    "    \n",
    "    \n",
    "    page.update()\n",
    "    "
   ]
  },
  {
   "cell_type": "code",
   "execution_count": 93,
   "id": "a1ddf117",
   "metadata": {},
   "outputs": [],
   "source": [
    "flet.app(target=main)"
   ]
  },
  {
   "cell_type": "code",
   "execution_count": null,
   "id": "e916c64e",
   "metadata": {},
   "outputs": [],
   "source": []
  }
 ],
 "metadata": {
  "kernelspec": {
   "display_name": "Python 3 (ipykernel)",
   "language": "python",
   "name": "python3"
  },
  "language_info": {
   "codemirror_mode": {
    "name": "ipython",
    "version": 3
   },
   "file_extension": ".py",
   "mimetype": "text/x-python",
   "name": "python",
   "nbconvert_exporter": "python",
   "pygments_lexer": "ipython3",
   "version": "3.9.7"
  }
 },
 "nbformat": 4,
 "nbformat_minor": 5
}
